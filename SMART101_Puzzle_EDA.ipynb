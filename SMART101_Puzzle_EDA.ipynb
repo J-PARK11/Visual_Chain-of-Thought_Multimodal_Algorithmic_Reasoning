{
 "cells": [
  {
   "cell_type": "markdown",
   "metadata": {},
   "source": [
    "# SMART101 Dataset EDA & Analysis\n",
    "- Name: SMART(a Simple Multimodal Algorithmic Reasoning Task)\n",
    "- Contents: 101 Unique Puzzles with Each puzzle to 2,000 new instances\n",
    "- Puzzle Category (8): [Counting, logic, measure, spatial, arithmetic, algebra, pattern finding, path tracing]\n",
    "- Split: [Puzzle Split(PS, 0-shot), Few-shot Split(FS), Instance Split(IS), Answer Split(AS)]\n",
    "- Dir Tree: \n",
    "    - puzzle_type_info.csv\n",
    "    - SMART_info_v2.csv\n",
    "    - icon-classes.txt\n",
    "    - SMART101-Data\n",
    "        - [1 ~ 101] = pz_idx\n",
    "            - img/puzzle_{pz_idx}\\_e\\_{ins_idx}.png   (ins_idx: {1~2000})\n",
    "            - puzzle_{pz_idx}.csv: {ins_id, Query, Image, A, B, C, D, E, Answer}\n",
    "    "
   ]
  },
  {
   "cell_type": "code",
   "execution_count": 10,
   "metadata": {},
   "outputs": [],
   "source": [
    "from flamingo_pytorch import GatedCrossAttentionBlock\n"
   ]
  },
  {
   "cell_type": "code",
   "execution_count": 9,
   "metadata": {},
   "outputs": [
    {
     "name": "stdout",
     "output_type": "stream",
     "text": [
      "Data Root Components: /data/SMART101-release-v1 ['SMART101-Data', 'README.md', 'SMART_info_v2.csv', 'puzzle_type_info.csv', 'icon-classes.txt']\n",
      "Sample: 1th puzzle, 1th instance\n"
     ]
    }
   ],
   "source": [
    "# Library Call\n",
    "import os\n",
    "import numpy as np\n",
    "import pandas as pd\n",
    "from PIL import Image\n",
    "import matplotlib.pyplot as plt\n",
    "from matplotlib.image import imread\n",
    "\n",
    "def viz_sample(pz_idx, ins_idx, puzzle_type_df):\n",
    "    img_path = os.path.join(data_root, 'SMART101-Data', f'{pz_idx}', 'img', f'puzzle_{pz_idx}_e_{ins_idx}.png')\n",
    "    annot_path = os.path.join(data_root, 'SMART101-Data', f'{pz_idx}', f'puzzle_{pz_idx}.csv')\n",
    "    annot = pd.read_csv(annot_path)\n",
    "    if annot['id'].dtype != 'int64':\n",
    "        annot = pd.read_csv(annot_path).iloc[:,:9]\n",
    "        annot.columns = ['Question', 'image', 'A', 'B', 'C', 'D', 'E', 'Answer', 'Note']\n",
    "    ins_idx -= 1\n",
    "    print(annot.loc[ins_idx]['Question'])\n",
    "    print(annot.loc[ins_idx]['image'])\n",
    "    print('A:',annot.loc[ins_idx]['A'], '   B:',annot.loc[ins_idx]['B'], '   C:',annot.loc[ins_idx]['C'], '   D:',annot.loc[ins_idx]['D'], '   E:',annot.loc[ins_idx]['E'])\n",
    "    print('answer:', annot.loc[ins_idx]['Answer'])\n",
    "    print('Note:', annot.loc[ins_idx]['Note'])\n",
    "    print('Puzzle type:', puzzle_type_df.loc[pz_idx].values[0])\n",
    "    plt.figure(figsize=(7,7))\n",
    "    try:\n",
    "        print('Img Path:',img_path)\n",
    "        img = imread(img_path)\n",
    "    except:\n",
    "        img_path = os.path.join(data_root, 'SMART101-Data', f'{pz_idx}', 'img', f'puzzle_{pz_idx}_{ins_idx}.png')\n",
    "        img = imread(img_path)\n",
    "    plt.title(f'{pz_idx}th puzzle, {ins_idx+1}th instance')\n",
    "    plt.imshow(img)\n",
    "    plt.grid(False)\n",
    "    plt.axis('off')\n",
    "    plt.show()\n",
    "\n",
    "data_root = '/data/SMART101-release-v1'\n",
    "pz_idx, ins_idx = 1, 1\n",
    "print('Data Root Components:', data_root, os.listdir(data_root))\n",
    "print(f'Sample: {pz_idx}th puzzle, {ins_idx}th instance')"
   ]
  },
  {
   "cell_type": "code",
   "execution_count": 2,
   "metadata": {},
   "outputs": [
    {
     "name": "stdout",
     "output_type": "stream",
     "text": [
      "(101, 1)\n"
     ]
    },
    {
     "data": {
      "text/html": [
       "<div>\n",
       "<style scoped>\n",
       "    .dataframe tbody tr th:only-of-type {\n",
       "        vertical-align: middle;\n",
       "    }\n",
       "\n",
       "    .dataframe tbody tr th {\n",
       "        vertical-align: top;\n",
       "    }\n",
       "\n",
       "    .dataframe thead th {\n",
       "        text-align: right;\n",
       "    }\n",
       "</style>\n",
       "<table border=\"1\" class=\"dataframe\">\n",
       "  <thead>\n",
       "    <tr style=\"text-align: right;\">\n",
       "      <th></th>\n",
       "      <th>type</th>\n",
       "    </tr>\n",
       "    <tr>\n",
       "      <th>puzzle_id</th>\n",
       "      <th></th>\n",
       "    </tr>\n",
       "  </thead>\n",
       "  <tbody>\n",
       "    <tr>\n",
       "      <th>1</th>\n",
       "      <td>path</td>\n",
       "    </tr>\n",
       "    <tr>\n",
       "      <th>2</th>\n",
       "      <td>counting</td>\n",
       "    </tr>\n",
       "    <tr>\n",
       "      <th>3</th>\n",
       "      <td>counting</td>\n",
       "    </tr>\n",
       "    <tr>\n",
       "      <th>4</th>\n",
       "      <td>counting</td>\n",
       "    </tr>\n",
       "    <tr>\n",
       "      <th>5</th>\n",
       "      <td>counting</td>\n",
       "    </tr>\n",
       "  </tbody>\n",
       "</table>\n",
       "</div>"
      ],
      "text/plain": [
       "               type\n",
       "puzzle_id          \n",
       "1              path\n",
       "2          counting\n",
       "3          counting\n",
       "4          counting\n",
       "5          counting"
      ]
     },
     "execution_count": 2,
     "metadata": {},
     "output_type": "execute_result"
    }
   ],
   "source": [
    "puzzle_type_df = os.path.join(data_root, 'puzzle_type_info.csv')\n",
    "puzzle_type_df = pd.read_csv(puzzle_type_df, index_col='puzzle_id')\n",
    "print(puzzle_type_df.shape)\n",
    "puzzle_type_df.head()"
   ]
  },
  {
   "cell_type": "code",
   "execution_count": 3,
   "metadata": {},
   "outputs": [
    {
     "data": {
      "text/plain": [
       "type    path\n",
       "Name: 1, dtype: object"
      ]
     },
     "execution_count": 3,
     "metadata": {},
     "output_type": "execute_result"
    }
   ],
   "source": [
    "puzzle_type_df.loc[1]"
   ]
  },
  {
   "cell_type": "code",
   "execution_count": 4,
   "metadata": {},
   "outputs": [
    {
     "data": {
      "image/png": "[encoded data removed]",
      "text/plain": [
       "<Figure size 1000x400 with 1 Axes>"
      ]
     },
     "metadata": {},
     "output_type": "display_data"
    }
   ],
   "source": [
    "plt.figure(figsize=(10,4))\n",
    "puzzle_type_df.type.value_counts().plot.bar()\n",
    "plt.title('Num of Puzzle by Cat')\n",
    "plt.xticks(rotation=0)\n",
    "plt.show()"
   ]
  },
  {
   "cell_type": "code",
   "execution_count": 5,
   "metadata": {},
   "outputs": [
    {
     "name": "stdout",
     "output_type": "stream",
     "text": [
      "Img Path: /data/SMART101-release-v1/SMART101-Data/1/img/puzzle_1_e_1.png\n",
      "Annot Path: /data/SMART101-release-v1/SMART101-Data/1/puzzle_1.csv\n"
     ]
    }
   ],
   "source": [
    "img_path = os.path.join(data_root, 'SMART101-Data', f'{pz_idx}', 'img', f'puzzle_{pz_idx}_e_{ins_idx}.png')\n",
    "annot_path = os.path.join(data_root, 'SMART101-Data', f'{pz_idx}', f'puzzle_{pz_idx}.csv')\n",
    "print('Img Path:',img_path)\n",
    "print('Annot Path:',annot_path)"
   ]
  },
  {
   "cell_type": "code",
   "execution_count": 6,
   "metadata": {},
   "outputs": [
    {
     "name": "stdout",
     "output_type": "stream",
     "text": [
      "(2000, 10)\n"
     ]
    },
    {
     "data": {
      "text/html": [
       "<div>\n",
       "<style scoped>\n",
       "    .dataframe tbody tr th:only-of-type {\n",
       "        vertical-align: middle;\n",
       "    }\n",
       "\n",
       "    .dataframe tbody tr th {\n",
       "        vertical-align: top;\n",
       "    }\n",
       "\n",
       "    .dataframe thead th {\n",
       "        text-align: right;\n",
       "    }\n",
       "</style>\n",
       "<table border=\"1\" class=\"dataframe\">\n",
       "  <thead>\n",
       "    <tr style=\"text-align: right;\">\n",
       "      <th></th>\n",
       "      <th>id</th>\n",
       "      <th>Question</th>\n",
       "      <th>image</th>\n",
       "      <th>A</th>\n",
       "      <th>B</th>\n",
       "      <th>C</th>\n",
       "      <th>D</th>\n",
       "      <th>E</th>\n",
       "      <th>Answer</th>\n",
       "      <th>Note</th>\n",
       "    </tr>\n",
       "  </thead>\n",
       "  <tbody>\n",
       "    <tr>\n",
       "      <th>0</th>\n",
       "      <td>1</td>\n",
       "      <td>Which object is linked to the hat?</td>\n",
       "      <td>puzzle_1_e_1.png</td>\n",
       "      <td>flower</td>\n",
       "      <td>disk</td>\n",
       "      <td>book</td>\n",
       "      <td>drink</td>\n",
       "      <td>ball</td>\n",
       "      <td>A</td>\n",
       "      <td>puzzle_1_e_1_note.png</td>\n",
       "    </tr>\n",
       "    <tr>\n",
       "      <th>1</th>\n",
       "      <td>2</td>\n",
       "      <td>What object is connected to the writing utensil?</td>\n",
       "      <td>puzzle_1_e_2.png</td>\n",
       "      <td>umbrella</td>\n",
       "      <td>bird</td>\n",
       "      <td>ball</td>\n",
       "      <td>blade</td>\n",
       "      <td>disk</td>\n",
       "      <td>B</td>\n",
       "      <td>puzzle_1_e_2_note.png</td>\n",
       "    </tr>\n",
       "    <tr>\n",
       "      <th>2</th>\n",
       "      <td>3</td>\n",
       "      <td>Which object is linked to the disk?</td>\n",
       "      <td>puzzle_1_e_3.png</td>\n",
       "      <td>hat</td>\n",
       "      <td>book</td>\n",
       "      <td>writing utensil</td>\n",
       "      <td>umbrella</td>\n",
       "      <td>ball</td>\n",
       "      <td>D</td>\n",
       "      <td>puzzle_1_e_3_note.png</td>\n",
       "    </tr>\n",
       "    <tr>\n",
       "      <th>3</th>\n",
       "      <td>4</td>\n",
       "      <td>What object is linked to the lock?</td>\n",
       "      <td>puzzle_1_e_4.png</td>\n",
       "      <td>medal</td>\n",
       "      <td>disk</td>\n",
       "      <td>envelope</td>\n",
       "      <td>blade</td>\n",
       "      <td>book</td>\n",
       "      <td>A</td>\n",
       "      <td>puzzle_1_e_4_note.png</td>\n",
       "    </tr>\n",
       "    <tr>\n",
       "      <th>4</th>\n",
       "      <td>5</td>\n",
       "      <td>What object is connected to the medal?</td>\n",
       "      <td>puzzle_1_e_5.png</td>\n",
       "      <td>bird</td>\n",
       "      <td>clock</td>\n",
       "      <td>umbrella</td>\n",
       "      <td>hat</td>\n",
       "      <td>drink</td>\n",
       "      <td>B</td>\n",
       "      <td>puzzle_1_e_5_note.png</td>\n",
       "    </tr>\n",
       "  </tbody>\n",
       "</table>\n",
       "</div>"
      ],
      "text/plain": [
       "   id                                          Question             image  \\\n",
       "0   1                Which object is linked to the hat?  puzzle_1_e_1.png   \n",
       "1   2  What object is connected to the writing utensil?  puzzle_1_e_2.png   \n",
       "2   3               Which object is linked to the disk?  puzzle_1_e_3.png   \n",
       "3   4                What object is linked to the lock?  puzzle_1_e_4.png   \n",
       "4   5            What object is connected to the medal?  puzzle_1_e_5.png   \n",
       "\n",
       "          A      B                C         D      E Answer  \\\n",
       "0    flower   disk             book     drink   ball      A   \n",
       "1  umbrella   bird             ball     blade   disk      B   \n",
       "2       hat   book  writing utensil  umbrella   ball      D   \n",
       "3     medal   disk         envelope     blade   book      A   \n",
       "4      bird  clock         umbrella       hat  drink      B   \n",
       "\n",
       "                    Note  \n",
       "0  puzzle_1_e_1_note.png  \n",
       "1  puzzle_1_e_2_note.png  \n",
       "2  puzzle_1_e_3_note.png  \n",
       "3  puzzle_1_e_4_note.png  \n",
       "4  puzzle_1_e_5_note.png  "
      ]
     },
     "execution_count": 6,
     "metadata": {},
     "output_type": "execute_result"
    }
   ],
   "source": [
    "annot = pd.read_csv(annot_path)\n",
    "print(annot.shape)\n",
    "annot.head()"
   ]
  },
  {
   "cell_type": "code",
   "execution_count": 8,
   "metadata": {},
   "outputs": [
    {
     "name": "stdout",
     "output_type": "stream",
     "text": [
      "A man's hens lay orange eggs and brown eggs. He puts eggs in the box shown in the figure. An egg must be placed in an egg holder (shown as a circle). Two brown eggs cannot touch each other. What is the maximum number of brown eggs he can put in the box?\n",
      "puzzle_36_e_591.png\n",
      "A: 1    B: 4    C: 2    D: 3    E: 6\n",
      "answer: D\n",
      "Note: puzzle_36_e_591_note.png\n",
      "Puzzle type: counting\n",
      "Img Path: /data/SMART101-release-v1/SMART101-Data/36/img/puzzle_36_e_591.png\n"
     ]
    },
    {
     "data": {
      "image/png": "[encoded data removed]",
      "text/plain": [
       "<Figure size 700x700 with 1 Axes>"
      ]
     },
     "metadata": {},
     "output_type": "display_data"
    }
   ],
   "source": [
    "# {path: 1, counting: 2, math: 6, algebra: 7, spatial: 17, order: 18, measure: 20, logic: 40, pattern: 77}\n",
    "# {Just Question: 30, Image with Text: 56}\n",
    "viz_sample(pz_idx=36, ins_idx=591, puzzle_type_df=puzzle_type_df)"
   ]
  },
  {
   "cell_type": "code",
   "execution_count": 9,
   "metadata": {},
   "outputs": [
    {
     "name": "stdout",
     "output_type": "stream",
     "text": [
      "{'A': 40377, 'B': 40420, 'C': 40589, 'D': 39897, 'E': 40717}\n"
     ]
    }
   ],
   "source": [
    "answer_history = {'A':0, 'B':0, \"C\":0, \"D\":0, \"E\":0}\n",
    "for pz_idx in range(1,102):\n",
    "    annot_path = os.path.join(data_root, 'SMART101-Data', f'{pz_idx}', f'puzzle_{pz_idx}.csv')\n",
    "    annot = pd.read_csv(annot_path)\n",
    "    if annot['id'].dtype != 'int64':\n",
    "        annot = pd.read_csv(annot_path).iloc[:,:9]\n",
    "        annot.columns = ['Question', 'image', 'A', 'B', 'C', 'D', 'E', 'Answer', 'Notes']\n",
    "    answer_cnt = annot['Answer'].value_counts()\n",
    "    for i in list(answer_history.keys()):\n",
    "        answer_history[i] += answer_cnt[i]\n",
    "print(answer_history)"
   ]
  },
  {
   "cell_type": "code",
   "execution_count": 10,
   "metadata": {},
   "outputs": [
    {
     "name": "stdout",
     "output_type": "stream",
     "text": [
      "Whole of Answer: 202000\n"
     ]
    },
    {
     "data": {
      "image/png": "[encoded data removed]",
      "text/plain": [
       "<Figure size 800x400 with 1 Axes>"
      ]
     },
     "metadata": {},
     "output_type": "display_data"
    }
   ],
   "source": [
    "print('Whole of Answer:', sum(answer_history.values()))\n",
    "plt.figure(figsize=(8,4))\n",
    "plt.bar(answer_history.keys(), answer_history.values(), width=0.5)\n",
    "plt.title('Counts of Answer Distribution')\n",
    "plt.show()"
   ]
  },
  {
   "cell_type": "code",
   "execution_count": 11,
   "metadata": {},
   "outputs": [
    {
     "name": "stdout",
     "output_type": "stream",
     "text": [
      "(101, 13)\n"
     ]
    },
    {
     "data": {
      "text/html": [
       "<div>\n",
       "<style scoped>\n",
       "    .dataframe tbody tr th:only-of-type {\n",
       "        vertical-align: middle;\n",
       "    }\n",
       "\n",
       "    .dataframe tbody tr th {\n",
       "        vertical-align: top;\n",
       "    }\n",
       "\n",
       "    .dataframe thead th {\n",
       "        text-align: right;\n",
       "    }\n",
       "</style>\n",
       "<table border=\"1\" class=\"dataframe\">\n",
       "  <thead>\n",
       "    <tr style=\"text-align: right;\">\n",
       "      <th></th>\n",
       "      <th>Question</th>\n",
       "      <th>image</th>\n",
       "      <th>A</th>\n",
       "      <th>B</th>\n",
       "      <th>C</th>\n",
       "      <th>D</th>\n",
       "      <th>E</th>\n",
       "      <th>Answer option</th>\n",
       "      <th>difficulty</th>\n",
       "      <th>type</th>\n",
       "      <th>level</th>\n",
       "      <th>source</th>\n",
       "      <th>note: difficulty (1/2/3: easy/normal/hard)</th>\n",
       "    </tr>\n",
       "    <tr>\n",
       "      <th>id</th>\n",
       "      <th></th>\n",
       "      <th></th>\n",
       "      <th></th>\n",
       "      <th></th>\n",
       "      <th></th>\n",
       "      <th></th>\n",
       "      <th></th>\n",
       "      <th></th>\n",
       "      <th></th>\n",
       "      <th></th>\n",
       "      <th></th>\n",
       "      <th></th>\n",
       "      <th></th>\n",
       "    </tr>\n",
       "  </thead>\n",
       "  <tbody>\n",
       "    <tr>\n",
       "      <th>1</th>\n",
       "      <td>Who caught the fish?</td>\n",
       "      <td>mk2017_1.png</td>\n",
       "      <td>Adam</td>\n",
       "      <td>Basil</td>\n",
       "      <td>Charlie</td>\n",
       "      <td>David</td>\n",
       "      <td>Edgar</td>\n",
       "      <td>D</td>\n",
       "      <td>2</td>\n",
       "      <td>path</td>\n",
       "      <td>1</td>\n",
       "      <td>kangaroo/2017</td>\n",
       "      <td>8/26/2022 ready for review</td>\n",
       "    </tr>\n",
       "    <tr>\n",
       "      <th>2</th>\n",
       "      <td>In the picture, there are stars with 5 points,...</td>\n",
       "      <td>mk2017_2.png</td>\n",
       "      <td>2</td>\n",
       "      <td>3</td>\n",
       "      <td>4</td>\n",
       "      <td>5</td>\n",
       "      <td>9</td>\n",
       "      <td>C</td>\n",
       "      <td>1</td>\n",
       "      <td>counting</td>\n",
       "      <td>1</td>\n",
       "      <td>kangaroo/2017</td>\n",
       "      <td>8/12/2022 revision ready for review; sugestion...</td>\n",
       "    </tr>\n",
       "    <tr>\n",
       "      <th>3</th>\n",
       "      <td>The entire pie seen in the picture is divided ...</td>\n",
       "      <td>mk2017_3.png</td>\n",
       "      <td>3</td>\n",
       "      <td>4</td>\n",
       "      <td>5</td>\n",
       "      <td>6</td>\n",
       "      <td>8</td>\n",
       "      <td>B</td>\n",
       "      <td>1</td>\n",
       "      <td>counting</td>\n",
       "      <td>1</td>\n",
       "      <td>kangaroo/2017</td>\n",
       "      <td>8/12/2022 ready for review; suggestions: chang...</td>\n",
       "    </tr>\n",
       "    <tr>\n",
       "      <th>4</th>\n",
       "      <td>Into how many parts do the scissors cut the ro...</td>\n",
       "      <td>mk2017_4.png</td>\n",
       "      <td>5</td>\n",
       "      <td>6</td>\n",
       "      <td>7</td>\n",
       "      <td>8</td>\n",
       "      <td>9</td>\n",
       "      <td>A</td>\n",
       "      <td>2</td>\n",
       "      <td>counting</td>\n",
       "      <td>1</td>\n",
       "      <td>kangaroo/2017</td>\n",
       "      <td>9/2/2022 ready for review; Same as 97 (but cou...</td>\n",
       "    </tr>\n",
       "    <tr>\n",
       "      <th>5</th>\n",
       "      <td>How many bricks are missing from the igloo?</td>\n",
       "      <td>mk2017_6.png</td>\n",
       "      <td>6</td>\n",
       "      <td>7</td>\n",
       "      <td>8</td>\n",
       "      <td>9</td>\n",
       "      <td>10</td>\n",
       "      <td>A</td>\n",
       "      <td>2</td>\n",
       "      <td>counting</td>\n",
       "      <td>1</td>\n",
       "      <td>kangaroo/2017</td>\n",
       "      <td>8/12/2022 ready for review</td>\n",
       "    </tr>\n",
       "  </tbody>\n",
       "</table>\n",
       "</div>"
      ],
      "text/plain": [
       "                                             Question         image     A  \\\n",
       "id                                                                          \n",
       "1                               Who caught the fish?   mk2017_1.png  Adam   \n",
       "2   In the picture, there are stars with 5 points,...  mk2017_2.png     2   \n",
       "3   The entire pie seen in the picture is divided ...  mk2017_3.png     3   \n",
       "4   Into how many parts do the scissors cut the ro...  mk2017_4.png     5   \n",
       "5         How many bricks are missing from the igloo?  mk2017_6.png     6   \n",
       "\n",
       "        B        C      D      E Answer option  difficulty      type  level  \\\n",
       "id                                                                            \n",
       "1   Basil  Charlie  David  Edgar             D           2      path      1   \n",
       "2       3        4      5      9             C           1  counting      1   \n",
       "3       4        5      6      8             B           1  counting      1   \n",
       "4       6        7      8      9             A           2  counting      1   \n",
       "5       7        8      9     10             A           2  counting      1   \n",
       "\n",
       "           source         note: difficulty (1/2/3: easy/normal/hard)  \n",
       "id                                                                    \n",
       "1   kangaroo/2017                         8/26/2022 ready for review  \n",
       "2   kangaroo/2017  8/12/2022 revision ready for review; sugestion...  \n",
       "3   kangaroo/2017  8/12/2022 ready for review; suggestions: chang...  \n",
       "4   kangaroo/2017  9/2/2022 ready for review; Same as 97 (but cou...  \n",
       "5   kangaroo/2017                         8/12/2022 ready for review  "
      ]
     },
     "execution_count": 11,
     "metadata": {},
     "output_type": "execute_result"
    }
   ],
   "source": [
    "smart_info = os.path.join(data_root, 'SMART_info_v2.csv')\n",
    "smart_info = pd.read_csv(smart_info, index_col='id')\n",
    "print(smart_info.shape)\n",
    "smart_info.head()"
   ]
  },
  {
   "cell_type": "code",
   "execution_count": 12,
   "metadata": {},
   "outputs": [
    {
     "name": "stdout",
     "output_type": "stream",
     "text": [
      "Whole of 51 icon_label\n",
      "['airplane', 'arrow_directions', 'ball', 'biking']\n"
     ]
    }
   ],
   "source": [
    "icon_path = os.path.join(data_root, 'icon-classes.txt')\n",
    "icon_file = open(icon_path, 'r')\n",
    "icon_label = []\n",
    "while True:\n",
    "    line = icon_file.readline()\n",
    "    if not line: break\n",
    "    icon_label.append(line.strip())\n",
    "icon_file.close()\n",
    "print(f'Whole of {len(icon_label)} icon_label')\n",
    "print(icon_label[:4])"
   ]
  }
 ],
 "metadata": {
  "kernelspec": {
   "display_name": "Python 3",
   "language": "python",
   "name": "python3"
  },
  "language_info": {
   "codemirror_mode": {
    "name": "ipython",
    "version": 3
   },
   "file_extension": ".py",
   "mimetype": "text/x-python",
   "name": "python",
   "nbconvert_exporter": "python",
   "pygments_lexer": "ipython3",
   "version": "3.10.11"
  }
 },
 "nbformat": 4,
 "nbformat_minor": 2
}
