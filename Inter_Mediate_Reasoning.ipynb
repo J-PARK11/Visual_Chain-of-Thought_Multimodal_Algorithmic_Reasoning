{
 "cells": [
  {
   "cell_type": "code",
   "execution_count": 5,
   "metadata": {},
   "outputs": [
    {
     "name": "stdout",
     "output_type": "stream",
     "text": [
      "/SMART_101\n"
     ]
    }
   ],
   "source": [
    "cd /SMART_101"
   ]
  },
  {
   "cell_type": "code",
   "execution_count": 96,
   "metadata": {},
   "outputs": [],
   "source": [
    "import os\n",
    "import csv\n",
    "import torch\n",
    "from PIL import Image\n",
    "import matplotlib.pyplot as plt\n",
    "from matplotlib.image import imread\n",
    "from transformers.image_utils import load_image\n",
    "from models.Idefics2.processing_idefics2 import Idefics2Processor\n",
    "from models.Idefics2.modeling_idefics2 import Idefics2ForConditionalGeneration\n",
    "\n",
    "# Argument\n",
    "target_pid, target_insid = str(7), str(2)\n",
    "mode = 'our_model' #, 'our_model', 'pretrained'\n",
    "pretrained_path = \"HuggingFaceM4/idefics2-8b\"\n",
    "our_model_path = \"checkpoints/GT_with_rationale_15_shot/checkpoint-4\"\n",
    "data_root_path = \"/data/SMART101-release-v1/SMART101-Data/\"\n",
    "img_root_path = f\"./V_COT_output/sample/puzzle_{target_pid}_e_{target_insid}.png/\"\n",
    "target_img_name = f'puzzle_{target_pid}_e_{target_insid}.png'\n",
    "pretrained_device = 'cuda:0'\n",
    "ours_device = 'cuda:1'"
   ]
  },
  {
   "cell_type": "code",
   "execution_count": 89,
   "metadata": {},
   "outputs": [],
   "source": [
    "# Function\n",
    "def read_csv(csvfilename, puzzle_id):\n",
    "\n",
    "    qa_info = []\n",
    "    option = [\"A\", \"B\", \"C\", \"D\", \"E\"]\n",
    "    with open(csvfilename, newline=\"\") as csvfile:\n",
    "        datareader = csv.DictReader(csvfile)\n",
    "        for row in datareader:\n",
    "            \n",
    "            row[\"puzzle_id\"] = str(puzzle_id)\n",
    "            if len(row[\"A\"]) == 0:\n",
    "                row[\"A\"] = \"A\"\n",
    "                row[\"B\"] = \"B\"\n",
    "                row[\"C\"] = \"C\"\n",
    "                row[\"D\"] = \"D\"\n",
    "                row[\"E\"] = \"E\"\n",
    "            qa_info.append(row)\n",
    "            \n",
    "            # create an option column\n",
    "            row[\"Option\"] = \" / \".join([f\"{o}: {row[o]}\" for o in option])\n",
    "    return qa_info\n",
    "\n",
    "def img_show(img_path):\n",
    "    img = imread(img_path)\n",
    "    plt.imshow(img)\n",
    "    plt.grid(False)\n",
    "    plt.axis('off')\n",
    "    plt.show()"
   ]
  },
  {
   "cell_type": "code",
   "execution_count": 9,
   "metadata": {},
   "outputs": [
    {
     "name": "stderr",
     "output_type": "stream",
     "text": [
      "Special tokens have been added in the vocabulary, make sure the associated word embeddings are fine-tuned or trained.\n",
      "Loading checkpoint shards: 100%|██████████| 7/7 [00:02<00:00,  2.75it/s]\n",
      "Loading checkpoint shards: 100%|██████████| 7/7 [00:02<00:00,  2.88it/s]\n"
     ]
    }
   ],
   "source": [
    "# 모델 & 토크나이저\n",
    "if mode == 'pretrained':\n",
    "    model_path = pretrained_path\n",
    "elif mode == 'our_model':\n",
    "    model_path = our_model_path\n",
    "processor = Idefics2Processor.from_pretrained(pretrained_path,\n",
    "                                                do_image_splitting = True,\n",
    "                                                size= {\"longest_edge\": 448, \"shortest_edge\": 378})\n",
    "\n",
    "pretrained_model = Idefics2ForConditionalGeneration.from_pretrained(pretrained_path, \n",
    "                                                            torch_dtype=torch.bfloat16,\n",
    "                                                            low_cpu_mem_usage=True).to(pretrained_device)\n",
    "our_model = Idefics2ForConditionalGeneration.from_pretrained(our_model_path, \n",
    "                                                            torch_dtype=torch.bfloat16,\n",
    "                                                            low_cpu_mem_usage=True).to(ours_device)"
   ]
  },
  {
   "cell_type": "code",
   "execution_count": 99,
   "metadata": {},
   "outputs": [
    {
     "name": "stdout",
     "output_type": "stream",
     "text": [
      "Pid: 7, Num of Instance: 2000\n",
      "Pid: 10, Num of Instance: 2000\n",
      "dict_keys(['id', 'Question', 'image', 'A', 'B', 'C', 'D', 'E', 'Answer', 'Note', 'puzzle_id', 'Option'])\n"
     ]
    }
   ],
   "source": [
    "# 데이터\n",
    "puzzle_info = read_csv(os.path.join(data_root_path, target_pid, f\"puzzle_{target_pid}.csv\"), target_pid)\n",
    "target_puzzle_info = puzzle_info[int(target_insid)-1]\n",
    "print(f'Pid: {7}, Num of Instance: {len(puzzle_info)}')\n",
    "print(f'Pid: {10}, Num of Instance: {len(puzzle_info)}')\n",
    "print(puzzle_info[int(target_insid)].keys())"
   ]
  },
  {
   "cell_type": "code",
   "execution_count": 100,
   "metadata": {},
   "outputs": [
    {
     "name": "stdout",
     "output_type": "stream",
     "text": [
      "puzzle_7_e_2.png\n",
      "/data/SMART101-release-v1/SMART101-Data/7/img/puzzle_7_e_2.png\n",
      "In an imaginary virtual world, you can get 3 mailboxes for 1 ball (top of the figure), and get 1 mailbox for 2 umbrellas (bottom of the figure). How many umbrella (or umbrellas) can you get for 2 balls?\n",
      "A: 12 / B: 10 / C: 16 / D: 9 / E: 13\n",
      "GT: A\n"
     ]
    },
    {
     "data": {
      "image/png": "[encoded data removed]",
      "text/plain": [
       "<Figure size 640x480 with 1 Axes>"
      ]
     },
     "metadata": {},
     "output_type": "display_data"
    }
   ],
   "source": [
    "# 타겟 데이터 샘플\n",
    "target_img_path = os.path.join(data_root_path, target_pid, 'img')\n",
    "target_img_path = os.path.join(target_img_path, target_img_name)\n",
    "question, option, GT = target_puzzle_info['Question'], target_puzzle_info['Option'], target_puzzle_info['Answer']\n",
    "print(target_img_name)\n",
    "print(target_img_path)\n",
    "print(question)\n",
    "print(option)\n",
    "print('GT:',GT)\n",
    "img_show(target_img_path)"
   ]
  },
  {
   "cell_type": "code",
   "execution_count": 142,
   "metadata": {},
   "outputs": [],
   "source": [
    "# 7번 질문 & 이미지\n",
    "question_dict=dict()\n",
    "\n",
    "question_dict['Q1'] = f\"Describe the image and identify the specific information.\"\n",
    "question_dict['Q2'] = f\"How many mailboxes does one ball trade for?\"\n",
    "question_dict['Q3'] = f\"So, how many umbrellas does one mailbox trade for?\"\n",
    "question_dict['Q4'] = f\"How many umbrellas does two balls trade for based on earlier trade relationship? Please answer with a commentary.\"\n",
    "# question_dict['Q4'] = f\"Please refer to the image and answer the aforementioned trade relationship.\"\n",
    "\n",
    "question_dict['I1'] = Image.open(os.path.join(img_root_path, \"I1.png\"))\n",
    "question_dict['I2'] = Image.open(os.path.join(img_root_path, \"I1.png\"))\n",
    "question_dict['I3'] = Image.open(os.path.join(img_root_path, \"I1.png\"))\n",
    "question_dict['I4'] = Image.open(os.path.join(img_root_path, \"I1.png\"))"
   ]
  },
  {
   "cell_type": "code",
   "execution_count": null,
   "metadata": {},
   "outputs": [],
   "source": [
    "# 10번 질문 & 이미지\n",
    "question_dict=dict()\n",
    "# question_dict['Q1'] = f\"Describe the image and identify the specific information needed to solve the following question.\\nQuestion: {question}\"\n",
    "# question_dict['Q2'] = f\"Make an equation using the expression symbol at the top left and the numbers in the image.\"\n",
    "# question_dict['Q3'] = f\"Similarly, use the symbol at the top left to match the number that will fit in the black square.\"\n",
    "# question_dict['Q4'] = f\"Finally, please answer the number that will be in the ? mark using the number of the black square you obtained earlier.\"\n",
    "\n",
    "question_dict['Q1'] = f\"Describe the image and identify the specific information.\"\n",
    "question_dict['Q2'] = f\"Use the symbol at the top-left to make an equation to match the number at the bottom-right.\"\n",
    "question_dict['Q3'] = f\"Similarly, to match the numbers at the bottom-right, use the symbols at the top-left to calculate the numbers that will fit in the black square at the top-right.\"\n",
    "question_dict['Q4'] = f\"Finally, please answer what number is covered by the question mark using the number of the black square you obtained earlier.\"\n",
    "\n",
    "question_dict['I1'] = Image.open(os.path.join(img_root_path, \"I1.png\"))\n",
    "question_dict['I2'] = Image.open(os.path.join(img_root_path, \"I2.png\"))\n",
    "question_dict['I3'] = Image.open(os.path.join(img_root_path, \"I3.png\"))\n",
    "question_dict['I4'] = Image.open(os.path.join(img_root_path, \"I4.png\"))"
   ]
  },
  {
   "cell_type": "code",
   "execution_count": 143,
   "metadata": {},
   "outputs": [],
   "source": [
    "# 프롬프트\n",
    "def get_prompt_format():\n",
    "    first_prompt = [\n",
    "        \n",
    "        # First-Turn\n",
    "        {\"role\": \"user\",\n",
    "        \"content\": [\n",
    "                {\"type\": \"image\"},\n",
    "                {\"type\": \"text\", \"text\": f\"{question_dict['Q1']}\"},\n",
    "                ]},\n",
    "    ]\n",
    "\n",
    "    second_prompt = [\n",
    "        \n",
    "        # First-Turn\n",
    "        {\"role\": \"user\",\n",
    "        \"content\": [\n",
    "                {\"type\": \"image\"},\n",
    "                {\"type\": \"text\", \"text\": f\"{question_dict['Q1']}\"},\n",
    "                ]},\n",
    "        {\"role\": \"assistant\",\n",
    "        \"content\": [\n",
    "            {\"type\": \"text\", \"text\": ''}\n",
    "        ]},\n",
    "        \n",
    "        # Second-Turn\n",
    "        {\"role\": \"user\",\n",
    "        \"content\": [\n",
    "                {\"type\": \"image\"},\n",
    "                {\"type\": \"text\", \"text\": f\"{question_dict['Q2']}\"},\n",
    "                ]},\n",
    "    ]\n",
    "\n",
    "    third_prompt = [\n",
    "        \n",
    "        # First-Turn\n",
    "        {\"role\": \"user\",\n",
    "        \"content\": [\n",
    "                {\"type\": \"image\"},\n",
    "                {\"type\": \"text\", \"text\": f\"{question_dict['Q1']}\"},\n",
    "                ]},\n",
    "        {\"role\": \"assistant\",\n",
    "        \"content\": [\n",
    "            {\"type\": \"text\", \"text\": ''}\n",
    "        ]},\n",
    "        \n",
    "        # Second-Turn\n",
    "        {\"role\": \"user\",\n",
    "        \"content\": [\n",
    "                {\"type\": \"image\"},\n",
    "                {\"type\": \"text\", \"text\": f\"{question_dict['Q2']}\"},\n",
    "                ]},\n",
    "        {\"role\": \"assistant\",\n",
    "        \"content\": [\n",
    "            {\"type\": \"text\", \"text\": ''}\n",
    "        ]},\n",
    "        \n",
    "        # Third-Turn\n",
    "        {\"role\": \"user\",\n",
    "        \"content\": [\n",
    "                {\"type\": \"image\"},\n",
    "                {\"type\": \"text\", \"text\": f\"{question_dict['Q3']}\"},\n",
    "                ]},\n",
    "    ]\n",
    "\n",
    "    fourth_prompt = [\n",
    "        \n",
    "        # First-Turn\n",
    "        {\"role\": \"user\",\n",
    "        \"content\": [\n",
    "                {\"type\": \"image\"},\n",
    "                {\"type\": \"text\", \"text\": f\"{question_dict['Q1']}\"},\n",
    "                ]},\n",
    "        {\"role\": \"assistant\",\n",
    "        \"content\": [\n",
    "            {\"type\": \"text\", \"text\": ''}\n",
    "        ]},\n",
    "        \n",
    "        # Second-Turn\n",
    "        {\"role\": \"user\",\n",
    "        \"content\": [\n",
    "                {\"type\": \"image\"},\n",
    "                {\"type\": \"text\", \"text\": f\"{question_dict['Q2']}\"},\n",
    "                ]},\n",
    "        {\"role\": \"assistant\",\n",
    "        \"content\": [\n",
    "            {\"type\": \"text\", \"text\": ''}\n",
    "        ]},\n",
    "        \n",
    "        # Third-Turn\n",
    "        {\"role\": \"user\",\n",
    "        \"content\": [\n",
    "                {\"type\": \"image\"},\n",
    "                {\"type\": \"text\", \"text\": f\"{question_dict['Q3']}\"},\n",
    "                ]},\n",
    "        {\"role\": \"assistant\",\n",
    "        \"content\": [\n",
    "            {\"type\": \"text\", \"text\": ''}\n",
    "        ]},\n",
    "        \n",
    "        # Fourth-Turn\n",
    "        {\"role\": \"user\",\n",
    "        \"content\": [\n",
    "                {\"type\": \"image\"},\n",
    "                {\"type\": \"text\", \"text\": f\"{question_dict['Q4']} Answer Options:\\n{option}\"}, # Answer Options:\\n{option}\n",
    "                ]},\n",
    "    ]\n",
    "    return first_prompt, second_prompt, third_prompt, fourth_prompt"
   ]
  },
  {
   "cell_type": "code",
   "execution_count": 144,
   "metadata": {},
   "outputs": [
    {
     "name": "stdout",
     "output_type": "stream",
     "text": [
      "User:<image>Describe the image and identify the specific information.<end_of_utterance>\n",
      "Assistant: \n",
      "\n",
      "User:<image>Describe the image and identify the specific information.<end_of_utterance>\n",
      "Assistant: <end_of_utterance>\n",
      "User:<image>How many mailboxes does one ball trade for?<end_of_utterance>\n",
      "Assistant: \n",
      "\n",
      "User:<image>Describe the image and identify the specific information.<end_of_utterance>\n",
      "Assistant: <end_of_utterance>\n",
      "User:<image>How many mailboxes does one ball trade for?<end_of_utterance>\n",
      "Assistant: <end_of_utterance>\n",
      "User:<image>So, how many umbrellas does one mailbox trade for?<end_of_utterance>\n",
      "Assistant: \n",
      "\n",
      "User:<image>Describe the image and identify the specific information.<end_of_utterance>\n",
      "Assistant: <end_of_utterance>\n",
      "User:<image>How many mailboxes does one ball trade for?<end_of_utterance>\n",
      "Assistant: <end_of_utterance>\n",
      "User:<image>So, how many umbrellas does one mailbox trade for?<end_of_utterance>\n",
      "Assistant: <end_of_utterance>\n",
      "User:<image>How many umbrellas does two balls trade for based on earlier trade relationship? Please answer with a commentary.<end_of_utterance>\n",
      "Assistant: \n",
      "\n"
     ]
    }
   ],
   "source": [
    "# Prompt 예시\n",
    "first_prompt, second_prompt, third_prompt, fourth_prompt = get_prompt_format()\n",
    "for prompt in [first_prompt, second_prompt, third_prompt, fourth_prompt]:\n",
    "    exp_query = processor.apply_chat_template(prompt, add_generation_prompt=True)\n",
    "    print(exp_query,'\\n')"
   ]
  },
  {
   "cell_type": "code",
   "execution_count": 140,
   "metadata": {},
   "outputs": [
    {
     "name": "stdout",
     "output_type": "stream",
     "text": [
      "Pretrained Inference\n",
      "\n",
      "First Turn answer: Mailboxes and umbrellas are shown with a soccer ball and an equal sign.\n",
      "Second Turn answer: 2\n",
      "Third Turn answer: 2\n",
      "Fourth Turn answer: 2.\n",
      "Overall Prompt\n"
     ]
    },
    {
     "data": {
      "text/plain": [
       "[{'role': 'user',\n",
       "  'content': [{'type': 'image'},\n",
       "   {'type': 'text',\n",
       "    'text': 'Describe the image and identify the specific information.'}]},\n",
       " {'role': 'assistant',\n",
       "  'content': [{'type': 'text',\n",
       "    'text': 'Mailboxes and umbrellas are shown with a soccer ball and an equal sign.'}]},\n",
       " {'role': 'user',\n",
       "  'content': [{'type': 'image'},\n",
       "   {'type': 'text', 'text': 'How many mailboxes does one ball trade for?'}]},\n",
       " {'role': 'assistant', 'content': [{'type': 'text', 'text': '2'}]},\n",
       " {'role': 'user',\n",
       "  'content': [{'type': 'image'},\n",
       "   {'type': 'text',\n",
       "    'text': 'So, how many umbrellas does one mailbox trade for?'}]},\n",
       " {'role': 'assistant', 'content': [{'type': 'text', 'text': '2'}]},\n",
       " {'role': 'user',\n",
       "  'content': [{'type': 'image'},\n",
       "   {'type': 'text',\n",
       "    'text': 'How many umbrellas does two balls trade for based on earlier trade relationship? Please answer with a commentary.'}]}]"
      ]
     },
     "execution_count": 140,
     "metadata": {},
     "output_type": "execute_result"
    }
   ],
   "source": [
    "# Visual Chain-of-Thought 본문\n",
    "print('Pretrained Inference\\n')\n",
    "first_prompt, second_prompt, third_prompt, fourth_prompt = get_prompt_format()\n",
    "\n",
    "# First Turn\n",
    "exp_query1 = processor.apply_chat_template(first_prompt, add_generation_prompt=True)\n",
    "inputs1 = processor(text=exp_query1, images=[question_dict['I1']], return_tensors=\"pt\").to(pretrained_device)\n",
    "with torch.no_grad():    \n",
    "    exp1_pred_id = pretrained_model.generate(**inputs1, max_new_tokens=200)\n",
    "    exp1_pred = processor.batch_decode(exp1_pred_id, skip_special_tokens=True)\n",
    "    first_turn_answer = exp1_pred[0].split('\\nAssistant: ')[-1]\n",
    "    print(f'First Turn answer: {first_turn_answer}')\n",
    "\n",
    "# Second Turn\n",
    "second_prompt[1]['content'][0]['text'] += first_turn_answer\n",
    "exp_query2 = processor.apply_chat_template(second_prompt, add_generation_prompt=True)\n",
    "inputs2 = processor(text=exp_query2, images=[question_dict['I1'], question_dict['I2']], return_tensors=\"pt\").to(pretrained_device)\n",
    "with torch.no_grad():    \n",
    "    exp2_pred_id = pretrained_model.generate(**inputs2, max_new_tokens=200)\n",
    "    exp2_pred = processor.batch_decode(exp2_pred_id, skip_special_tokens=True)\n",
    "    second_turn_answer = exp2_pred[0].split('\\nAssistant: ')[-1]\n",
    "    print(f'Second Turn answer: {second_turn_answer}')\n",
    "\n",
    "# Third Turn\n",
    "third_prompt[1]['content'][0]['text'] += first_turn_answer\n",
    "third_prompt[3]['content'][0]['text'] += second_turn_answer\n",
    "exp_query3 = processor.apply_chat_template(third_prompt, add_generation_prompt=True)\n",
    "inputs3 = processor(text=exp_query3, images=[question_dict['I1'], question_dict['I2'], question_dict['I3']], return_tensors=\"pt\").to(pretrained_device)\n",
    "with torch.no_grad():    \n",
    "    exp3_pred_id = pretrained_model.generate(**inputs3, max_new_tokens=200)\n",
    "    exp3_pred = processor.batch_decode(exp3_pred_id, skip_special_tokens=True)\n",
    "    third_turn_answer = exp3_pred[0].split('\\nAssistant: ')[-1]\n",
    "    print(f'Third Turn answer: {third_turn_answer}')\n",
    "    \n",
    "# Fourth Turn\n",
    "fourth_prompt[1]['content'][0]['text'] += first_turn_answer\n",
    "fourth_prompt[3]['content'][0]['text'] += second_turn_answer\n",
    "fourth_prompt[5]['content'][0]['text'] += third_turn_answer\n",
    "exp_query4 = processor.apply_chat_template(fourth_prompt, add_generation_prompt=True)\n",
    "inputs4 = processor(text=exp_query4, images=[question_dict['I1'], question_dict['I2'], question_dict['I3'], question_dict['I4']], return_tensors=\"pt\").to(pretrained_device)\n",
    "with torch.no_grad():    \n",
    "    exp4_pred_id = pretrained_model.generate(**inputs4, max_new_tokens=200)\n",
    "    exp4_pred = processor.batch_decode(exp4_pred_id, skip_special_tokens=True)\n",
    "    fourth_turn_answer = exp4_pred[0].split('\\nAssistant: ')[-1]\n",
    "    print(f'Fourth Turn answer: {fourth_turn_answer}')\n",
    "\n",
    "overall_prompt = fourth_prompt\n",
    "print('Overall Prompt')\n",
    "overall_prompt"
   ]
  },
  {
   "cell_type": "code",
   "execution_count": 141,
   "metadata": {},
   "outputs": [
    {
     "name": "stdout",
     "output_type": "stream",
     "text": [
      "Ours Inference\n",
      "\n",
      "First Turn answer: In the image, there are three mailboxes, two umbrellas, and a soccer ball. The number of mailboxes is 3, the number of umbrellas is 2, and the number of soccer balls is 1.\n",
      "Second Turn answer: One ball trades for two mailboxes. So, one ball trades for 2 mailboxes.\n",
      "Third Turn answer: One mailbox trades for one umbrella. So, one mailbox trades for 1 umbrella.\n",
      "Fourth Turn answer: Two balls trade for two mailboxes, and one mailbox trades for one umbrella. So, two balls trade for two umbrellas.\n",
      "Overall Prompt\n"
     ]
    },
    {
     "data": {
      "text/plain": [
       "[{'role': 'user',\n",
       "  'content': [{'type': 'image'},\n",
       "   {'type': 'text',\n",
       "    'text': 'Describe the image and identify the specific information.'}]},\n",
       " {'role': 'assistant',\n",
       "  'content': [{'type': 'text',\n",
       "    'text': 'In the image, there are three mailboxes, two umbrellas, and a soccer ball. The number of mailboxes is 3, the number of umbrellas is 2, and the number of soccer balls is 1.'}]},\n",
       " {'role': 'user',\n",
       "  'content': [{'type': 'image'},\n",
       "   {'type': 'text', 'text': 'How many mailboxes does one ball trade for?'}]},\n",
       " {'role': 'assistant',\n",
       "  'content': [{'type': 'text',\n",
       "    'text': 'One ball trades for two mailboxes. So, one ball trades for 2 mailboxes.'}]},\n",
       " {'role': 'user',\n",
       "  'content': [{'type': 'image'},\n",
       "   {'type': 'text',\n",
       "    'text': 'So, how many umbrellas does one mailbox trade for?'}]},\n",
       " {'role': 'assistant',\n",
       "  'content': [{'type': 'text',\n",
       "    'text': 'One mailbox trades for one umbrella. So, one mailbox trades for 1 umbrella.'}]},\n",
       " {'role': 'user',\n",
       "  'content': [{'type': 'image'},\n",
       "   {'type': 'text',\n",
       "    'text': 'How many umbrellas does two balls trade for based on earlier trade relationship? Please answer with a commentary.'}]}]"
      ]
     },
     "execution_count": 141,
     "metadata": {},
     "output_type": "execute_result"
    }
   ],
   "source": [
    "# Visual Chain-of-Thought 본문\n",
    "print('Ours Inference\\n')\n",
    "first_prompt, second_prompt, third_prompt, fourth_prompt = get_prompt_format()\n",
    "\n",
    "# First Turn\n",
    "exp_query1 = processor.apply_chat_template(first_prompt, add_generation_prompt=True)\n",
    "inputs1 = processor(text=exp_query1, images=[question_dict['I1']], return_tensors=\"pt\").to(ours_device)\n",
    "with torch.no_grad():    \n",
    "    exp1_pred_id = our_model.generate(**inputs1, max_new_tokens=200)\n",
    "    exp1_pred = processor.batch_decode(exp1_pred_id, skip_special_tokens=True)\n",
    "    first_turn_answer = exp1_pred[0].split('\\nAssistant: ')[-1]\n",
    "    print(f'First Turn answer: {first_turn_answer}')\n",
    "\n",
    "# Second Turn\n",
    "second_prompt[1]['content'][0]['text'] += first_turn_answer\n",
    "exp_query2 = processor.apply_chat_template(second_prompt, add_generation_prompt=True)\n",
    "inputs2 = processor(text=exp_query2, images=[question_dict['I1'], question_dict['I2']], return_tensors=\"pt\").to(ours_device)\n",
    "with torch.no_grad():    \n",
    "    exp2_pred_id = our_model.generate(**inputs2, max_new_tokens=200)\n",
    "    exp2_pred = processor.batch_decode(exp2_pred_id, skip_special_tokens=True)\n",
    "    second_turn_answer = exp2_pred[0].split('\\nAssistant: ')[-1]\n",
    "    print(f'Second Turn answer: {second_turn_answer}')\n",
    "\n",
    "# Third Turn\n",
    "third_prompt[1]['content'][0]['text'] += first_turn_answer\n",
    "third_prompt[3]['content'][0]['text'] += second_turn_answer\n",
    "exp_query3 = processor.apply_chat_template(third_prompt, add_generation_prompt=True)\n",
    "inputs3 = processor(text=exp_query3, images=[question_dict['I1'], question_dict['I2'], question_dict['I3']], return_tensors=\"pt\").to(ours_device)\n",
    "with torch.no_grad():    \n",
    "    exp3_pred_id = our_model.generate(**inputs3, max_new_tokens=200)\n",
    "    exp3_pred = processor.batch_decode(exp3_pred_id, skip_special_tokens=True)\n",
    "    third_turn_answer = exp3_pred[0].split('\\nAssistant: ')[-1]\n",
    "    print(f'Third Turn answer: {third_turn_answer}')\n",
    "    \n",
    "# Fourth Turn\n",
    "fourth_prompt[1]['content'][0]['text'] += first_turn_answer\n",
    "fourth_prompt[3]['content'][0]['text'] += second_turn_answer\n",
    "fourth_prompt[5]['content'][0]['text'] += third_turn_answer\n",
    "exp_query4 = processor.apply_chat_template(fourth_prompt, add_generation_prompt=True)\n",
    "inputs4 = processor(text=exp_query4, images=[question_dict['I1'], question_dict['I2'], question_dict['I3'], question_dict['I4']], return_tensors=\"pt\").to(ours_device)\n",
    "with torch.no_grad():    \n",
    "    exp4_pred_id = our_model.generate(**inputs4, max_new_tokens=200)\n",
    "    exp4_pred = processor.batch_decode(exp4_pred_id, skip_special_tokens=True)\n",
    "    fourth_turn_answer = exp4_pred[0].split('\\nAssistant: ')[-1]\n",
    "    print(f'Fourth Turn answer: {fourth_turn_answer}')\n",
    "\n",
    "overall_prompt = fourth_prompt\n",
    "print('Overall Prompt')\n",
    "overall_prompt"
   ]
  },
  {
   "cell_type": "code",
   "execution_count": null,
   "metadata": {},
   "outputs": [],
   "source": []
  },
  {
   "cell_type": "code",
   "execution_count": null,
   "metadata": {},
   "outputs": [],
   "source": []
  },
  {
   "cell_type": "code",
   "execution_count": null,
   "metadata": {},
   "outputs": [],
   "source": []
  }
 ],
 "metadata": {
  "kernelspec": {
   "display_name": "base",
   "language": "python",
   "name": "python3"
  },
  "language_info": {
   "codemirror_mode": {
    "name": "ipython",
    "version": 3
   },
   "file_extension": ".py",
   "mimetype": "text/x-python",
   "name": "python",
   "nbconvert_exporter": "python",
   "pygments_lexer": "ipython3",
   "version": "3.10.11"
  }
 },
 "nbformat": 4,
 "nbformat_minor": 2
}
