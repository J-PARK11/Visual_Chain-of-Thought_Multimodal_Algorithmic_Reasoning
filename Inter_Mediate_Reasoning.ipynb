{
 "cells": [
  {
   "cell_type": "code",
   "execution_count": 2,
   "metadata": {},
   "outputs": [
    {
     "name": "stdout",
     "output_type": "stream",
     "text": [
      "/SMART_101\n"
     ]
    }
   ],
   "source": [
    "cd /SMART_101"
   ]
  },
  {
   "cell_type": "code",
   "execution_count": 4,
   "metadata": {},
   "outputs": [
    {
     "name": "stdout",
     "output_type": "stream",
     "text": [
      "25986\n",
      "25982\n",
      "25985\n",
      "22983\n",
      "64\n",
      "101000\n"
     ]
    }
   ],
   "source": [
    "import os\n",
    "import json\n",
    "import torch\n",
    "\n",
    "path1 = os.path.join('V_COT_output','GPT_aug','GPT_augmented_101000', 'gpt_augmentation_result_1_4.json')\n",
    "path2 = os.path.join('V_COT_output','GPT_aug','GPT_augmented_101000', 'gpt_augmentation_result_2_4.json')\n",
    "path3 = os.path.join('V_COT_output','GPT_aug','GPT_augmented_101000', 'gpt_augmentation_result_3_4.json')\n",
    "path4 = os.path.join('V_COT_output','GPT_aug','GPT_augmented_101000', 'gpt_augmentation_result_4_4.json')\n",
    "path5 = os.path.join('V_COT_output','GPT_aug','GPT_augmented_101000', 'gpt_augmentation_result_5_4.json')\n",
    "\n",
    "gpt_aug_total = dict()\n",
    "with open(path1) as f1:\n",
    "    json1 = json.load(f1)\n",
    "    print(len(json1))\n",
    "    gpt_aug_total.update(json1)\n",
    "with open(path2) as f2:\n",
    "    json2 = json.load(f2)\n",
    "    print(len(json2))\n",
    "    gpt_aug_total.update(json2)\n",
    "with open(path3) as f3:\n",
    "    json3 = json.load(f3)\n",
    "    print(len(json3))\n",
    "    gpt_aug_total.update(json3)\n",
    "with open(path4) as f4:\n",
    "    json4 = json.load(f4)\n",
    "    gpt_aug_total.update(json4)\n",
    "    print(len(json4))\n",
    "with open(path5) as f5:\n",
    "    json5 = json.load(f5)\n",
    "    print(len(json5))\n",
    "    gpt_aug_total.update(json5)\n",
    "with open('gpt_aug_total.json', 'w') as new_file:\n",
    "    json.dump(gpt_aug_total, new_file)\n",
    "    print(len(gpt_aug_total))"
   ]
  },
  {
   "cell_type": "code",
   "execution_count": 5,
   "metadata": {},
   "outputs": [
    {
     "name": "stdout",
     "output_type": "stream",
     "text": [
      "puzzle_101_143.png 2420\n",
      "265\n",
      "['puzzle_6_e_136.png', 'puzzle_10_e_23.png', 'puzzle_10_e_137.png', 'puzzle_10_e_294.png']\n"
     ]
    }
   ],
   "source": [
    "keys = list(gpt_aug_total.keys())\n",
    "max_key, max_len = '', 0\n",
    "upper_1000_list, upper_1000_cnt = [], 0\n",
    "for key in keys:\n",
    "    loop = len(gpt_aug_total[key]['GT_with_Rationale'])\n",
    "    if max_len < loop:\n",
    "        max_len=loop\n",
    "        max_key=key\n",
    "    if (loop > 1000):\n",
    "        upper_1000_cnt += 1\n",
    "        upper_1000_list.append(key)\n",
    "print(key, max_len)\n",
    "print(upper_1000_cnt)\n",
    "print(upper_1000_list[:4])"
   ]
  },
  {
   "cell_type": "code",
   "execution_count": 6,
   "metadata": {},
   "outputs": [
    {
     "name": "stdout",
     "output_type": "stream",
     "text": [
      "We need to find the number that is not used in the equation depicted in the image. The given numbers are 5, 14, 15, 59, and 78. Each polygon can contain one of these numbers, and the equation must balance. \n",
      "First, we test different combinations to satisfy the equation. The equation holds for 59 = 14 + 14 + 14 + 14 + 14 + 14 + 14 + 14 + 14 + 14 + 14 + 14 + 14 + 14 + 14 + 5 + 5 + 5 + 5 + 5 + 5 + 5 + 5 + 5 + 5 + 5 + 5 + 5 + 5 + 5 + 5 + 5 + 5 + 5 + 5 + 5 + 5 + 5 + 5 + 5 + 5 + 5 + 5 + 5 + 5 + 5 + 5 + 5 + 5 + 5 + 5 + 5 + 5 + 5 + 5 + 5 + 5 + 5 + 5 + 5 + 5 + 5 + 5 + 5 + 5 + 5 + 5 + 5 + 5 + 5 + 5 + 5 + 5 + 5 + 5 + 5 + 5 + 5 + 5 + 5 + 5 + 5 + 5 + 5 + 5 + 5 + 5 + 5 + 5 + 5 + 5 + 5 + 5 + 5 + 5 + 5 + 5 + 5 + 5 + 5 + 5 + 5 + 5 + 5 + 5 + 5 + 5 + 5 + 5 + 5 + 5 + 5 + 5 + 5 + 5 + 5 + 5 + 5 + 5 + 5 + 5 + 5 + 5 + 5 + 5 + 5 + 5 + 5 + 5 + 5 + 5 + 5 + 5 + 5 + 5 + 5 + 5 + 5 + 5 + 5 + 5 + 5 + 5 + 5 + 5 + 5 + 5 + 5 + 5 + 5 + 5 + 5 + 5 + 5 + 5 + 5 + 5 + 5 + 5 + 5 + 5 + 5 + 5 + 5 + 5 + 5 + 5 + 5 + 5 + 5 + 5 + 5 + 5 + 5 + 5 + 5 +\n"
     ]
    }
   ],
   "source": [
    "print(gpt_aug_total['puzzle_6_e_136.png']['GT_with_Rationale'])"
   ]
  },
  {
   "cell_type": "code",
   "execution_count": 15,
   "metadata": {},
   "outputs": [
    {
     "name": "stderr",
     "output_type": "stream",
     "text": [
      "/opt/conda/lib/python3.10/site-packages/tqdm/auto.py:21: TqdmWarning: IProgress not found. Please update jupyter and ipywidgets. See https://ipywidgets.readthedocs.io/en/stable/user_install.html\n",
      "  from .autonotebook import tqdm as notebook_tqdm\n"
     ]
    }
   ],
   "source": [
    "import os\n",
    "import torch\n",
    "from PIL import Image\n",
    "from transformers.image_utils import load_image\n",
    "from models.Idefics2.processing_idefics2 import Idefics2Processor\n",
    "from models.Idefics2.modeling_idefics2 import Idefics2ForConditionalGeneration\n",
    "\n",
    "from lib.V_COT_library import *\n",
    "\n",
    "# Argument\n",
    "pid = str(10)\n",
    "target_pid, target_insid = get_insid(pid)\n",
    "mode = 'our_model' #, 'our_model', 'pretrained'\n",
    "pretrained_path = \"HuggingFaceM4/idefics2-8b\"\n",
    "our_model_path = \"checkpoints/GT_with_rationale_101/checkpoint-104\"\n",
    "data_root_path = \"/data/SMART101-release-v1/SMART101-Data/\"\n",
    "img_root_path = f\"./V_COT_output/sample/puzzle_{target_pid}_e_{target_insid}.png/\"\n",
    "target_img_name = f'puzzle_{target_pid}_e_{target_insid}.png'\n",
    "pretrained_device = 'cuda:1'\n",
    "ours_device = 'cuda:2'"
   ]
  },
  {
   "cell_type": "code",
   "execution_count": 39,
   "metadata": {},
   "outputs": [
    {
     "name": "stderr",
     "output_type": "stream",
     "text": [
      "Special tokens have been added in the vocabulary, make sure the associated word embeddings are fine-tuned or trained.\n"
     ]
    }
   ],
   "source": [
    "# 모델 & 토크나이저\n",
    "if mode == 'pretrained':\n",
    "    model_path = pretrained_path\n",
    "elif mode == 'our_model':\n",
    "    model_path = our_model_path\n",
    "processor = Idefics2Processor.from_pretrained(pretrained_path,\n",
    "                                                do_image_splitting = True,\n",
    "                                                size= {\"longest_edge\": 448, \"shortest_edge\": 378})\n",
    "\n",
    "# pretrained_model = Idefics2ForConditionalGeneration.from_pretrained(pretrained_path, \n",
    "#                                                             torch_dtype=torch.bfloat16,\n",
    "#                                                             low_cpu_mem_usage=True).to(pretrained_device)\n",
    "# our_model = Idefics2ForConditionalGeneration.from_pretrained(our_model_path, \n",
    "#                                                             torch_dtype=torch.bfloat16,\n",
    "#                                                             low_cpu_mem_usage=True).to(ours_device)"
   ]
  },
  {
   "cell_type": "code",
   "execution_count": 47,
   "metadata": {},
   "outputs": [],
   "source": [
    "question = \"A man used screws to connect pairs of the 10 identical strips together into five long strips. Which strip is the shortest?\"\n",
    "answer_option = \"The longer the strip, the fewer holes there are between two screws, and vice versa. Therefore, the shortest strip has the most holes between two screws. Strip E, which has 5 holes, has the largest number. Answer: E\"\n",
    "question = \"Question: \" + question\n",
    "messages = [\n",
    "                {\n",
    "                    \"role\": \"user\",\n",
    "                    \"content\": [\n",
    "                        {\"type\": \"text\", \"text\": 'Looking at this image, solve the question.'},\n",
    "                        {\"type\": \"text\", \"text\": question}\n",
    "                    ]\n",
    "                },\n",
    "                {\n",
    "                    \"role\": \"assistant\",\n",
    "                    \"content\": [\n",
    "                        {\"type\": \"text\", \"text\": answer_option}\n",
    "                    ]\n",
    "                }\n",
    "            ]"
   ]
  },
  {
   "cell_type": "code",
   "execution_count": 48,
   "metadata": {},
   "outputs": [
    {
     "data": {
      "text/plain": [
       "'User: Looking at this image, solve the question.Question: A man used screws to connect pairs of the 10 identical strips together into five long strips. Which strip is the shortest?<end_of_utterance>\\nAssistant: The longer the strip, the fewer holes there are between two screws, and vice versa. Therefore, the shortest strip has the most holes between two screws. Strip E, which has 5 holes, has the largest number. Answer: E<end_of_utterance>\\n'"
      ]
     },
     "execution_count": 48,
     "metadata": {},
     "output_type": "execute_result"
    }
   ],
   "source": [
    "text = processor.apply_chat_template(messages, add_generation_prompt=False)\n",
    "text"
   ]
  },
  {
   "cell_type": "code",
   "execution_count": 60,
   "metadata": {},
   "outputs": [
    {
     "data": {
      "text/plain": [
       "'\\nAssistant: The longer the strip, the fewer holes there are between two screws, and vice versa. Therefore, the shortest strip has the most holes between two screws. Strip E, which has 5 holes, has the largest number. Answer: E<end_of_utterance>\\n'"
      ]
     },
     "execution_count": 60,
     "metadata": {},
     "output_type": "execute_result"
    }
   ],
   "source": [
    "label_text = text[text.find('\\nAssistant:'):]\n",
    "label_text"
   ]
  },
  {
   "cell_type": "code",
   "execution_count": 91,
   "metadata": {},
   "outputs": [],
   "source": [
    "sample = [torch.tensor([    1,  1247, 28747, 14828,   438,   456,  3469, 28725, 12049,   272,\n",
    "         2996, 28723, 32000,  -100,  -100,  -100,  -100,  -100,  -100,  -100,\n",
    "         -100,  -100,  -100,  -100,  -100,  -100,  -100,  -100,  -100,  -100,\n",
    "         -100,  -100,  -100,  -100,  -100,  -100,  -100,  -100,  -100,  -100,\n",
    "         -100,  -100,  -100,  -100,  -100,  -100,  -100,  -100,  -100,  -100,\n",
    "         -100,  -100,  -100,  -100,  -100,  -100,  -100,  -100,  -100,  -100,\n",
    "         -100,  -100,  -100,  -100,  -100,  -100,  -100,  -100,  -100,  -100,\n",
    "         -100,  -100,  -100,  -100,  -100,  -100,  -100, 32000,  -100,  -100,\n",
    "         -100,  -100,  -100,  -100,  -100,  -100,  -100,  -100,  -100,  -100,\n",
    "         -100,  -100,  -100,  -100,  -100,  -100,  -100,  -100,  -100,  -100,\n",
    "         -100,  -100,  -100,  -100,  -100,  -100,  -100,  -100,  -100,  -100,\n",
    "         -100,  -100,  -100,  -100,  -100,  -100,  -100,  -100,  -100,  -100,\n",
    "         -100,  -100,  -100,  -100,  -100,  -100,  -100,  -100,  -100,  -100,\n",
    "         -100,  -100,  -100,  -100,  -100,  -100,  -100,  -100,  -100,  -100,\n",
    "         -100,  -100, 32000,  -100,  -100,  -100,  -100,  -100,  -100,  -100,\n",
    "         -100,  -100,  -100,  -100,  -100,  -100,  -100,  -100,  -100,  -100,\n",
    "         -100,  -100,  -100,  -100,  -100,  -100,  -100,  -100,  -100,  -100,\n",
    "         -100,  -100,  -100,  -100,  -100,  -100,  -100,  -100,  -100,  -100,\n",
    "         -100,  -100,  -100,  -100,  -100,  -100,  -100,  -100,  -100,  -100,\n",
    "         -100,  -100,  -100,  -100,  -100,  -100,  -100,  -100,  -100,  -100,\n",
    "         -100,  -100,  -100,  -100,  -100,  -100,  -100, 32000,  -100,  -100,\n",
    "         -100,  -100,  -100,  -100,  -100,  -100,  -100,  -100,  -100,  -100,\n",
    "         -100,  -100,  -100,  -100,  -100,  -100,  -100,  -100,  -100,  -100,\n",
    "         -100,  -100,  -100,  -100,  -100,  -100,  -100,  -100,  -100,  -100,\n",
    "         -100,  -100,  -100,  -100,  -100,  -100,  -100,  -100,  -100,  -100,\n",
    "         -100,  -100,  -100,  -100,  -100,  -100,  -100,  -100,  -100,  -100,\n",
    "         -100,  -100,  -100,  -100,  -100,  -100,  -100,  -100,  -100,  -100,\n",
    "         -100,  -100, 32000,  -100,  -100,  -100,  -100,  -100,  -100,  -100,\n",
    "         -100,  -100,  -100,  -100,  -100,  -100,  -100,  -100,  -100,  -100,\n",
    "         -100,  -100,  -100,  -100,  -100,  -100,  -100,  -100,  -100,  -100,\n",
    "         -100,  -100,  -100,  -100,  -100,  -100,  -100,  -100,  -100,  -100,\n",
    "         -100,  -100,  -100,  -100,  -100,  -100,  -100,  -100,  -100,  -100,\n",
    "         -100,  -100,  -100,  -100,  -100,  -100,  -100,  -100,  -100,  -100,\n",
    "         -100,  -100,  -100,  -100,  -100,  -100,  -100, 32000, 22478, 28747,\n",
    "          330,   676,   349,  7312,  2267,   272,  3878,   304,   400, 16336,\n",
    "          865,   272,  9181,  5651,   356,   516,  1749,  2081, 28723,   351,\n",
    "         8259,   477,  1305, 28705, 28740,   298,  1305, 28705, 28750, 28725,\n",
    "          767,   349,   272,  5498,  7768,   400,   622,  1220, 28804,    13,\n",
    "         4018, 28747,    13, 28741, 28723,   351, 28828, 28796, 11607,    13,\n",
    "        28760, 28723,   351, 28828, 11306, 28790,    13, 28743, 28723,   351,\n",
    "        28828, 28754, 28796, 11607, 28753,    13, 28757, 28723,   351, 28828,\n",
    "        28754, 18246,    13, 28749, 28723,   399,    13, 12069,  4372,   395,\n",
    "          272,   389, 26311,   297,   272,  2877, 32002, 28705,    13,  7226,\n",
    "        11143, 28747, 26307, 28747,   334, 28723,  1791, 12049,   456,  2700,\n",
    "        28725,   368,   927,   298,  5248,   575,   690,  5007,   264,   676,\n",
    "          349,  7312,  2267,   272,  3878, 28725,   304,   690,  2081,   302,\n",
    "          272,  3878,   356,   574,  2204,  2275,   349,   516,  1749,  2081,\n",
    "         5923, 28711,  2565,  2757, 28725,   739,   272,   676,   349,  7312,\n",
    "         1060, 28725,   272,  5498,   356,   272,  1103,   302,   272,  3878,\n",
    "          622,   347,   356,   272,  1749,  2081,   302,   272,   676, 28723,\n",
    "         1537,   400,   541,  1220,   351,  5923, 28711,  1930, 13407,   272,\n",
    "         1407,   304,  2994,  1378,   575,   690,  2081,   349,   272,   676,\n",
    "        28742, 28713,  1749,  2081, 28725,   368,   541,  1300,   272,  5498,\n",
    "         7768,   369,   400,   622,  1220, 28723,   661,   622,   347,   351,\n",
    "        28828, 28754, 28796, 11607, 28753, 28723, 32002])]"
   ]
  },
  {
   "cell_type": "code",
   "execution_count": 104,
   "metadata": {},
   "outputs": [],
   "source": [
    "sample_b = [torch.tensor([ 7226, 11143, 28747,   415,  2996, 12373,   354,   272,  1474,   302,\n",
    "          712,  4384,   297,   272,  3469, 28723,  4577,  1430, 19818,  6948,\n",
    "          989,   281,  1649, 28725,   368,   541,  2113,   272,  3102,  1474,\n",
    "          302,   281,  1649,   304,   868, 21556,   486, 28705, 28750, 28723,\n",
    "         1387,   460, 28705, 28740, 28734,   281,  1649,   297,   272,  3469,\n",
    "        28725,   579,   272,  1474,   302,   712,  4384,   349, 28705, 28740,\n",
    "        28734, 28748, 28750,   327, 28705, 28782, 28723,  8469, 28725,   272,\n",
    "         4372,   349,   330,   327, 28705, 28782, 28723, 26307, 28747,   330,\n",
    "        28723, 32002])]"
   ]
  },
  {
   "cell_type": "code",
   "execution_count": 54,
   "metadata": {},
   "outputs": [
    {
     "data": {
      "text/plain": [
       "tensor([[    1,  1247, 28747, 14828,   438,   456,  3469, 28725, 12049,   272,\n",
       "          2996, 28723, 24994, 28747,   330,   676,  1307, 14693, 28713,   298,\n",
       "          5789, 12690,   302,   272, 28705, 28740, 28734, 15792,  4216,   782,\n",
       "          2553,   778,  3359,  1043,  4216,   782, 28723,  9595, 15039,   349,\n",
       "           272,  2485,   374, 28804, 32002, 28705,    13,  7226, 11143, 28747,\n",
       "           415,  3774,   272, 15039, 28725,   272, 16130, 15130,   736,   460,\n",
       "          1444,   989, 14693, 28713, 28725,   304, 12465,  3502, 28708, 28723,\n",
       "          8469, 28725,   272,  2485,   374, 15039,   659,   272,  1080, 15130,\n",
       "          1444,   989, 14693, 28713, 28723,   662,  5386,   413, 28725,   690,\n",
       "           659, 28705, 28782, 15130, 28725,   659,   272,  7639,  1474, 28723,\n",
       "         26307, 28747,   413, 32002, 28705,    13]])"
      ]
     },
     "execution_count": 54,
     "metadata": {},
     "output_type": "execute_result"
    }
   ],
   "source": [
    "batch = processor(text=[text], return_tensors=\"pt\", padding=True)\n",
    "batch['input_ids']"
   ]
  },
  {
   "cell_type": "code",
   "execution_count": 94,
   "metadata": {},
   "outputs": [
    {
     "name": "stdout",
     "output_type": "stream",
     "text": [
      "426\n"
     ]
    }
   ],
   "source": [
    "label_index = int((sample[0] == 32002).nonzero()[0][0])\n",
    "print(label_index)"
   ]
  },
  {
   "cell_type": "code",
   "execution_count": 103,
   "metadata": {},
   "outputs": [
    {
     "data": {
      "text/plain": [
       "[\"Assistant: Answer: C. To solve this problem, you need to figure out which direction a man is walking along the road, and which side of the road on your viewpoint is his left side.\\\\nFor example, when the man is walking down, the letter on the right of the road will be on the left side of the man. So he can read M.\\\\nBy Following the line and figuring out which side is the man's left side, you can find the letter sequence that he will read. It will be MZRKSVP.<end_of_utterance>\"]"
      ]
     },
     "execution_count": 103,
     "metadata": {},
     "output_type": "execute_result"
    }
   ],
   "source": [
    "processor.batch_decode([sample[0][label_index+3:]])"
   ]
  },
  {
   "cell_type": "code",
   "execution_count": 74,
   "metadata": {},
   "outputs": [
    {
     "data": {
      "text/plain": [
       "tensor([[    1, 28705,    13,  7226, 11143, 28747,   330]])"
      ]
     },
     "execution_count": 74,
     "metadata": {},
     "output_type": "execute_result"
    }
   ],
   "source": [
    "batch = processor(text=['\\nAssistant: A'], return_tensors=\"pt\", padding=True)\n",
    "batch['input_ids']"
   ]
  },
  {
   "cell_type": "code",
   "execution_count": null,
   "metadata": {},
   "outputs": [],
   "source": [
    "processor.batch_decode()"
   ]
  },
  {
   "cell_type": "code",
   "execution_count": 30,
   "metadata": {},
   "outputs": [
    {
     "data": {
      "text/plain": [
       "tensor([330, 365, 334, 384, 413])"
      ]
     },
     "execution_count": 30,
     "metadata": {},
     "output_type": "execute_result"
    }
   ],
   "source": [
    "option_id = [330, 365, 334, 384, 413]\n",
    "a = torch.tensor([a for a in range(0,32000)])\n",
    "a[option_id]"
   ]
  },
  {
   "cell_type": "code",
   "execution_count": 16,
   "metadata": {},
   "outputs": [
    {
     "name": "stdout",
     "output_type": "stream",
     "text": [
      "Pid: 7, Num of Instance: 2000\n",
      "Pid: 10, Num of Instance: 2000\n",
      "dict_keys(['id', 'Question', 'image', 'A', 'B', 'C', 'D', 'E', 'Answer', 'Note', 'puzzle_id', 'Option'])\n"
     ]
    }
   ],
   "source": [
    "# 데이터\n",
    "puzzle_info = read_csv(os.path.join(data_root_path, target_pid, f\"puzzle_{target_pid}.csv\"), target_pid)\n",
    "target_puzzle_info = puzzle_info[int(target_insid)-1]\n",
    "print(f'Pid: {7}, Num of Instance: {len(puzzle_info)}')\n",
    "print(f'Pid: {10}, Num of Instance: {len(puzzle_info)}')\n",
    "print(puzzle_info[int(target_insid)].keys())"
   ]
  },
  {
   "cell_type": "code",
   "execution_count": 17,
   "metadata": {},
   "outputs": [
    {
     "name": "stdout",
     "output_type": "stream",
     "text": [
      "puzzle_10_e_1.png\n",
      "/data/SMART101-release-v1/SMART101-Data/10/img/puzzle_10_e_1.png\n",
      "The correct additions in the squares were performed according to the pattern shown in the table. What number is covered by the question mark?\n",
      "A. 18\n",
      "B. 21\n",
      "C. 17\n",
      "D. 20\n",
      "E. 14\n",
      "GT: C\n"
     ]
    },
    {
     "data": {
      "image/png": "[encoded data removed]",
      "text/plain": [
       "<Figure size 640x480 with 1 Axes>"
      ]
     },
     "metadata": {},
     "output_type": "display_data"
    }
   ],
   "source": [
    "# 타겟 데이터 샘플\n",
    "target_img_path = os.path.join(data_root_path, target_pid, 'img')\n",
    "target_img_path = os.path.join(target_img_path, target_img_name)\n",
    "question, option, GT = target_puzzle_info['Question'], target_puzzle_info['Option'], target_puzzle_info['Answer']\n",
    "print(target_img_name)\n",
    "print(target_img_path)\n",
    "print(question)\n",
    "print(option)\n",
    "print('GT:',GT)\n",
    "img_show(target_img_path)"
   ]
  },
  {
   "cell_type": "code",
   "execution_count": 6,
   "metadata": {},
   "outputs": [
    {
     "name": "stdout",
     "output_type": "stream",
     "text": [
      "User:<image>Please return the important information in the image with a brief explanation.<end_of_utterance>\n",
      "Assistant: \n",
      "\n",
      "User:<image>Please return the important information in the image with a brief explanation.<end_of_utterance>\n",
      "Assistant: <end_of_utterance>\n",
      "User:<image>Use the symbol at the top-left to make an equation to match the number at the bottom-right.<end_of_utterance>\n",
      "Assistant: \n",
      "\n",
      "User:<image>Please return the important information in the image with a brief explanation.<end_of_utterance>\n",
      "Assistant: <end_of_utterance>\n",
      "User:<image>Use the symbol at the top-left to make an equation to match the number at the bottom-right.<end_of_utterance>\n",
      "Assistant: <end_of_utterance>\n",
      "User:<image>Similarly, to match the numbers at the bottom-right, use the symbols at the top-left to calculate the numbers that will fit in the black square at the top-right.<end_of_utterance>\n",
      "Assistant: \n",
      "\n",
      "User:<image>Please return the important information in the image with a brief explanation.<end_of_utterance>\n",
      "Assistant: <end_of_utterance>\n",
      "User:<image>Use the symbol at the top-left to make an equation to match the number at the bottom-right.<end_of_utterance>\n",
      "Assistant: <end_of_utterance>\n",
      "User:<image>Similarly, to match the numbers at the bottom-right, use the symbols at the top-left to calculate the numbers that will fit in the black square at the top-right.<end_of_utterance>\n",
      "Assistant: <end_of_utterance>\n",
      "User:<image>Refer to the previous conversation and answer the following questions.\n",
      "The correct additions in the squares were performed according to the pattern shown in the table. What number is covered by the question mark?\n",
      "Answer Options:\n",
      "A. 18\n",
      "B. 21\n",
      "C. 17\n",
      "D. 20\n",
      "E. 14\n",
      "Please answer with a commentary.<end_of_utterance>\n",
      "Assistant: \n",
      "\n"
     ]
    }
   ],
   "source": [
    "# Prompt 예시 \n",
    "question_dict = get_v_cot_img_and_question(pid, img_root_path, question, option)\n",
    "first_prompt, second_prompt, third_prompt, fourth_prompt = get_prompt_format(question_dict)\n",
    "for prompt in [first_prompt, second_prompt, third_prompt, fourth_prompt]:\n",
    "    exp_query = processor.apply_chat_template(prompt, add_generation_prompt=True)\n",
    "    print(exp_query,'\\n')"
   ]
  },
  {
   "cell_type": "code",
   "execution_count": 7,
   "metadata": {},
   "outputs": [
    {
     "name": "stdout",
     "output_type": "stream",
     "text": [
      "Pretrained Inference\n",
      "\n",
      "First Turn answer: 23 + 28 = 51\n",
      "51 - 7 = 44\n",
      "44 - 19 = 25\n",
      "25 + 7 = 32\n",
      "32 - 23 = 9\n",
      "Therefore, the final answer is 9\n",
      "Second Turn answer: +\n",
      "Third Turn answer: +\n",
      "Fourth Turn answer: The answer is D\n",
      "Overall Prompt\n"
     ]
    },
    {
     "data": {
      "text/plain": [
       "[{'role': 'user',\n",
       "  'content': [{'type': 'image'},\n",
       "   {'type': 'text',\n",
       "    'text': 'Please return the important information in the image with a brief explanation.'}]},\n",
       " {'role': 'assistant',\n",
       "  'content': [{'type': 'text',\n",
       "    'text': '23 + 28 = 51\\n51 - 7 = 44\\n44 - 19 = 25\\n25 + 7 = 32\\n32 - 23 = 9\\nTherefore, the final answer is 9'}]},\n",
       " {'role': 'user',\n",
       "  'content': [{'type': 'image'},\n",
       "   {'type': 'text',\n",
       "    'text': 'Use the symbol at the top-left to make an equation to match the number at the bottom-right.'}]},\n",
       " {'role': 'assistant', 'content': [{'type': 'text', 'text': '+'}]},\n",
       " {'role': 'user',\n",
       "  'content': [{'type': 'image'},\n",
       "   {'type': 'text',\n",
       "    'text': 'Similarly, to match the numbers at the bottom-right, use the symbols at the top-left to calculate the numbers that will fit in the black square at the top-right.'}]},\n",
       " {'role': 'assistant', 'content': [{'type': 'text', 'text': '+'}]},\n",
       " {'role': 'user',\n",
       "  'content': [{'type': 'image'},\n",
       "   {'type': 'text',\n",
       "    'text': 'Refer to the previous conversation and answer the following questions.\\nThe correct additions in the squares were performed according to the pattern shown in the table. What number is covered by the question mark?\\nAnswer Options:\\nA. 18\\nB. 21\\nC. 17\\nD. 20\\nE. 14\\nPlease answer with a commentary.'}]}]"
      ]
     },
     "execution_count": 7,
     "metadata": {},
     "output_type": "execute_result"
    }
   ],
   "source": [
    "# Visual Chain-of-Thought 본문\n",
    "print('Pretrained Inference\\n')\n",
    "\n",
    "# First Turn\n",
    "exp_query1 = processor.apply_chat_template(first_prompt, add_generation_prompt=True)\n",
    "inputs1 = processor(text=exp_query1, images=[question_dict['I1']], return_tensors=\"pt\").to(pretrained_device)\n",
    "with torch.no_grad():    \n",
    "    exp1_pred_id = pretrained_model.generate(**inputs1, max_new_tokens=200)\n",
    "    exp1_pred = processor.batch_decode(exp1_pred_id, skip_special_tokens=True)\n",
    "    first_turn_answer = exp1_pred[0].split('\\nAssistant: ')[-1]\n",
    "    print(f'First Turn answer: {first_turn_answer}')\n",
    "\n",
    "# Second Turn\n",
    "second_prompt[1]['content'][0]['text'] += first_turn_answer\n",
    "exp_query2 = processor.apply_chat_template(second_prompt, add_generation_prompt=True)\n",
    "inputs2 = processor(text=exp_query2, images=[question_dict['I1'], question_dict['I2']], return_tensors=\"pt\").to(pretrained_device)\n",
    "with torch.no_grad():    \n",
    "    exp2_pred_id = pretrained_model.generate(**inputs2, max_new_tokens=200)\n",
    "    exp2_pred = processor.batch_decode(exp2_pred_id, skip_special_tokens=True)\n",
    "    second_turn_answer = exp2_pred[0].split('\\nAssistant: ')[-1]\n",
    "    print(f'Second Turn answer: {second_turn_answer}')\n",
    "\n",
    "# Third Turn\n",
    "third_prompt[1]['content'][0]['text'] += first_turn_answer\n",
    "third_prompt[3]['content'][0]['text'] += second_turn_answer\n",
    "exp_query3 = processor.apply_chat_template(third_prompt, add_generation_prompt=True)\n",
    "inputs3 = processor(text=exp_query3, images=[question_dict['I1'], question_dict['I2'], question_dict['I3']], return_tensors=\"pt\").to(pretrained_device)\n",
    "with torch.no_grad():    \n",
    "    exp3_pred_id = pretrained_model.generate(**inputs3, max_new_tokens=200)\n",
    "    exp3_pred = processor.batch_decode(exp3_pred_id, skip_special_tokens=True)\n",
    "    third_turn_answer = exp3_pred[0].split('\\nAssistant: ')[-1]\n",
    "    print(f'Third Turn answer: {third_turn_answer}')\n",
    "    \n",
    "# Fourth Turn\n",
    "fourth_prompt[1]['content'][0]['text'] += first_turn_answer\n",
    "fourth_prompt[3]['content'][0]['text'] += second_turn_answer\n",
    "fourth_prompt[5]['content'][0]['text'] += third_turn_answer\n",
    "exp_query4 = processor.apply_chat_template(fourth_prompt, add_generation_prompt=True)\n",
    "inputs4 = processor(text=exp_query4, images=[question_dict['I1'], question_dict['I2'], question_dict['I3'], question_dict['I4']], return_tensors=\"pt\").to(pretrained_device)\n",
    "with torch.no_grad():    \n",
    "    exp4_pred_id = pretrained_model.generate(**inputs4, max_new_tokens=200)\n",
    "    exp4_pred = processor.batch_decode(exp4_pred_id, skip_special_tokens=True)\n",
    "    fourth_turn_answer = exp4_pred[0].split('\\nAssistant: ')[-1]\n",
    "    print(f'Fourth Turn answer: {fourth_turn_answer}')\n",
    "\n",
    "overall_prompt = fourth_prompt\n",
    "print('Overall Prompt')\n",
    "overall_prompt"
   ]
  },
  {
   "cell_type": "code",
   "execution_count": 8,
   "metadata": {},
   "outputs": [
    {
     "name": "stdout",
     "output_type": "stream",
     "text": [
      "Ours Inference\n",
      "\n",
      "First Turn answer: Important information: 19 + 28 = 47, 47 - 23 = 24, 24 * 7 = 168, 168 - 30 = 138. Therefore, 138 is the correct answer. Explanation: To solve the problem, we have to know how many more than 23 we need to make 12. The number in the square is 19, so we have to know how many more than 19 we need to make 12. If we subtract 19 from 12, we get -7, but the number in the square is 7, so we have to know how many more than 7 we need to make 12. If we subtract 7 from 12, we get 5, so the number we have to make 12 is 12 +\n",
      "Second Turn answer: Answer: 12 + 7 = 19, 19 - 12 = 7, 7 + 12 = 19. Therefore, the correct answer is 19.\n",
      "Third Turn answer: Answer: 12 + 28 = 40, 40 - 12 = 28, 28 + 12 = 40. Therefore, the correct answer is 40.\n",
      "Fourth Turn answer: Answer: C, To solve the problem, we have to know what number is covered by the question mark. If we add the numbers in the two squares according to the pattern shown in the table, we get 12 + 28 = 40, 40 - 12 = 28, 28 + 12 = 40. Therefore, the number covered by the question mark is 12. Thus, the answer is C: 17.\n",
      "Overall Prompt\n"
     ]
    },
    {
     "data": {
      "text/plain": [
       "[{'role': 'user',\n",
       "  'content': [{'type': 'image'},\n",
       "   {'type': 'text',\n",
       "    'text': 'Please return the important information in the image with a brief explanation.'}]},\n",
       " {'role': 'assistant',\n",
       "  'content': [{'type': 'text',\n",
       "    'text': '23 + 28 = 51\\n51 - 7 = 44\\n44 - 19 = 25\\n25 + 7 = 32\\n32 - 23 = 9\\nTherefore, the final answer is 9Important information: 19 + 28 = 47, 47 - 23 = 24, 24 * 7 = 168, 168 - 30 = 138. Therefore, 138 is the correct answer. Explanation: To solve the problem, we have to know how many more than 23 we need to make 12. The number in the square is 19, so we have to know how many more than 19 we need to make 12. If we subtract 19 from 12, we get -7, but the number in the square is 7, so we have to know how many more than 7 we need to make 12. If we subtract 7 from 12, we get 5, so the number we have to make 12 is 12 +'}]},\n",
       " {'role': 'user',\n",
       "  'content': [{'type': 'image'},\n",
       "   {'type': 'text',\n",
       "    'text': 'Use the symbol at the top-left to make an equation to match the number at the bottom-right.'}]},\n",
       " {'role': 'assistant',\n",
       "  'content': [{'type': 'text',\n",
       "    'text': '+Answer: 12 + 7 = 19, 19 - 12 = 7, 7 + 12 = 19. Therefore, the correct answer is 19.'}]},\n",
       " {'role': 'user',\n",
       "  'content': [{'type': 'image'},\n",
       "   {'type': 'text',\n",
       "    'text': 'Similarly, to match the numbers at the bottom-right, use the symbols at the top-left to calculate the numbers that will fit in the black square at the top-right.'}]},\n",
       " {'role': 'assistant',\n",
       "  'content': [{'type': 'text',\n",
       "    'text': '+Answer: 12 + 28 = 40, 40 - 12 = 28, 28 + 12 = 40. Therefore, the correct answer is 40.'}]},\n",
       " {'role': 'user',\n",
       "  'content': [{'type': 'image'},\n",
       "   {'type': 'text',\n",
       "    'text': 'Refer to the previous conversation and answer the following questions.\\nThe correct additions in the squares were performed according to the pattern shown in the table. What number is covered by the question mark?\\nAnswer Options:\\nA. 18\\nB. 21\\nC. 17\\nD. 20\\nE. 14\\nPlease answer with a commentary.'}]}]"
      ]
     },
     "execution_count": 8,
     "metadata": {},
     "output_type": "execute_result"
    }
   ],
   "source": [
    "# Visual Chain-of-Thought 본문\n",
    "print('Ours Inference\\n')\n",
    "\n",
    "# First Turn\n",
    "exp_query1 = processor.apply_chat_template(first_prompt, add_generation_prompt=True)\n",
    "inputs1 = processor(text=exp_query1, images=[question_dict['I1']], return_tensors=\"pt\").to(ours_device)\n",
    "with torch.no_grad():    \n",
    "    exp1_pred_id = our_model.generate(**inputs1, max_new_tokens=200)\n",
    "    exp1_pred = processor.batch_decode(exp1_pred_id, skip_special_tokens=True)\n",
    "    first_turn_answer = exp1_pred[0].split('\\nAssistant: ')[-1]\n",
    "    # first_turn_answer = \"There are, ball, mailboxs, umbrellas\"\n",
    "    print(f'First Turn answer: {first_turn_answer}')\n",
    "\n",
    "# Second Turn\n",
    "second_prompt[1]['content'][0]['text'] += first_turn_answer\n",
    "exp_query2 = processor.apply_chat_template(second_prompt, add_generation_prompt=True)\n",
    "inputs2 = processor(text=exp_query2, images=[question_dict['I1'], question_dict['I2']], return_tensors=\"pt\").to(ours_device)\n",
    "with torch.no_grad():    \n",
    "    exp2_pred_id = our_model.generate(**inputs2, max_new_tokens=200)\n",
    "    exp2_pred = processor.batch_decode(exp2_pred_id, skip_special_tokens=True)\n",
    "    second_turn_answer = exp2_pred[0].split('\\nAssistant: ')[-1]\n",
    "    print(f'Second Turn answer: {second_turn_answer}')\n",
    "\n",
    "# Third Turn\n",
    "third_prompt[1]['content'][0]['text'] += first_turn_answer\n",
    "third_prompt[3]['content'][0]['text'] += second_turn_answer\n",
    "exp_query3 = processor.apply_chat_template(third_prompt, add_generation_prompt=True)\n",
    "inputs3 = processor(text=exp_query3, images=[question_dict['I1'], question_dict['I2'], question_dict['I3']], return_tensors=\"pt\").to(ours_device)\n",
    "with torch.no_grad():    \n",
    "    exp3_pred_id = our_model.generate(**inputs3, max_new_tokens=200)\n",
    "    exp3_pred = processor.batch_decode(exp3_pred_id, skip_special_tokens=True)\n",
    "    third_turn_answer = exp3_pred[0].split('\\nAssistant: ')[-1]\n",
    "    print(f'Third Turn answer: {third_turn_answer}')\n",
    "    \n",
    "# Fourth Turn\n",
    "fourth_prompt[1]['content'][0]['text'] += first_turn_answer\n",
    "fourth_prompt[3]['content'][0]['text'] += second_turn_answer\n",
    "fourth_prompt[5]['content'][0]['text'] += third_turn_answer\n",
    "exp_query4 = processor.apply_chat_template(fourth_prompt, add_generation_prompt=True)\n",
    "inputs4 = processor(text=exp_query4, images=[question_dict['I1'], question_dict['I2'], question_dict['I3'], question_dict['I4']], return_tensors=\"pt\").to(ours_device)\n",
    "with torch.no_grad():    \n",
    "    exp4_pred_id = our_model.generate(**inputs4, max_new_tokens=200)\n",
    "    exp4_pred = processor.batch_decode(exp4_pred_id, skip_special_tokens=True)\n",
    "    fourth_turn_answer = exp4_pred[0].split('\\nAssistant: ')[-1]\n",
    "    print(f'Fourth Turn answer: {fourth_turn_answer}')\n",
    "\n",
    "overall_prompt = fourth_prompt\n",
    "print('Overall Prompt')\n",
    "overall_prompt"
   ]
  },
  {
   "cell_type": "code",
   "execution_count": null,
   "metadata": {},
   "outputs": [],
   "source": []
  },
  {
   "cell_type": "code",
   "execution_count": null,
   "metadata": {},
   "outputs": [],
   "source": []
  },
  {
   "cell_type": "code",
   "execution_count": null,
   "metadata": {},
   "outputs": [],
   "source": []
  }
 ],
 "metadata": {
  "kernelspec": {
   "display_name": "base",
   "language": "python",
   "name": "python3"
  },
  "language_info": {
   "codemirror_mode": {
    "name": "ipython",
    "version": 3
   },
   "file_extension": ".py",
   "mimetype": "text/x-python",
   "name": "python",
   "nbconvert_exporter": "python",
   "pygments_lexer": "ipython3",
   "version": "3.10.11"
  }
 },
 "nbformat": 4,
 "nbformat_minor": 2
}
